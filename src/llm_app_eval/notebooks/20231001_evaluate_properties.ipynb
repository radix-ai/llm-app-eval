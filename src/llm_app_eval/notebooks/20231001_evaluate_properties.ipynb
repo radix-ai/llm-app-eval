{
 "cells": [
  {
   "cell_type": "code",
   "execution_count": 1,
   "metadata": {},
   "outputs": [],
   "source": [
    "%load_ext autoreload\n",
    "%autoreload 2"
   ]
  },
  {
   "cell_type": "code",
   "execution_count": 2,
   "metadata": {},
   "outputs": [],
   "source": [
    "import os\n",
    "from typing import List\n",
    "import sys\n",
    "import uuid\n",
    "\n",
    "sys.path.append(\"../../llm_app_eval\")\n",
    "from llm_app import BaseApp, InputFormat, OutputFormat, GptBaseApp\n",
    "from evaluator import TestCase, EvalProperty, PropertyResult, Evaluator\n",
    "from eval_properties import properties\n",
    "\n",
    "import openai\n",
    "import instructor\n",
    "\n",
    "openai.api_key_path = \"../../../openai_key\"\n",
    "instructor.patch()"
   ]
  },
  {
   "cell_type": "code",
   "execution_count": 3,
   "metadata": {},
   "outputs": [],
   "source": [
    "test_cases = [\n",
    "    TestCase(\n",
    "        test_id=1,\n",
    "        test_input={\"question\": \"Waarom zou het slachtoffer naar de dokter moeten gaan na het Heimlich-manoeuvre?\"},\n",
    "        reference_output={\"answer\": \"Omdat het Heimlich-manoeuvre een interne bloeding kan hebben veroorzaakt.\"},\n",
    "    ),\n",
    "    TestCase(\n",
    "        test_id=2,\n",
    "        test_input={\"question\": \"Wat zijn de vier stappen van eerste hulp?\"},\n",
    "        reference_output={\"answer\": \"1. Zorg voor veiligheid, 2. Beoordeel de toestand van het slachtoffer, 3. Hulpdiensten verwittigen indien nodig, 4. Verleen verdere eerste hulp.\"},\n",
    "    ),\n",
    "    TestCase(\n",
    "        test_id=3,\n",
    "        test_input={\"question\": \"Wat is de eerste stap van eerste hulp?\"},\n",
    "        historical_output={\"answer\": \"Zorg voor de veiligheid van het slachtoffer.\"},\n",
    "        historical_feedback=\"Het is belangrijk om ook voor de veiligheid van jezelf en omstaanders te zorgen.\",\n",
    "    ),\n",
    "    TestCase(\n",
    "        test_id=4,\n",
    "        test_input={\"question\": \"Wat moet je doen als het slachtoffer geen ademhaling heeft?\"},\n",
    "        historical_output={\"answer\": \"Bel 112\"},\n",
    "    ),\n",
    "    TestCase(\n",
    "        test_id=5,\n",
    "        test_input={\"question\": \"Moet je eten of drinken toedienen in een noodsituatie?\"},\n",
    "        reference_output={\"answer\": \"Nee, behalve bij een hypo (lage bloedsuiker) of hitte- en zonneslag\"},\n",
    "    ),\n",
    "]"
   ]
  },
  {
   "cell_type": "code",
   "execution_count": 4,
   "metadata": {},
   "outputs": [],
   "source": [
    "# Store the test cases in a folder with a JSON per test case\n",
    "os.makedirs(\"../data/test_cases\", exist_ok=True)\n",
    "for i, test_case in enumerate(test_cases):\n",
    "    test_case_json = test_case.model_dump_json()\n",
    "    with open(f\"../data/test_cases/{test_case.test_id}.json\", \"w\") as f:\n",
    "        f.write(test_case_json)"
   ]
  },
  {
   "cell_type": "code",
   "execution_count": 5,
   "metadata": {},
   "outputs": [],
   "source": [
    "llm_app = GptBaseApp()\n",
    "ev = Evaluator(test_set=test_cases, properties=properties, results_dir=\"../data/eval_results\")"
   ]
  },
  {
   "cell_type": "code",
   "execution_count": 9,
   "metadata": {},
   "outputs": [
    {
     "name": "stderr",
     "output_type": "stream",
     "text": [
      "Evaluating test cases:   0%|          | 0/5 [00:00<?, ?test case/s]"
     ]
    },
    {
     "name": "stdout",
     "output_type": "stream",
     "text": [
      "Evaluating property FactuallyConsistent\n"
     ]
    },
    {
     "name": "stderr",
     "output_type": "stream",
     "text": [
      "Evaluating test cases:  20%|██        | 1/5 [00:03<00:12,  3.02s/test case]"
     ]
    },
    {
     "name": "stdout",
     "output_type": "stream",
     "text": [
      "Evaluating property ImprovesHistoricalAnswer\n",
      "Evaluating property TakesFeedbackIntoAccount\n",
      "Evaluating property LengthWithinBounds\n",
      "Evaluating property FactuallyConsistent\n"
     ]
    },
    {
     "name": "stderr",
     "output_type": "stream",
     "text": [
      "Evaluating test cases:  40%|████      | 2/5 [00:05<00:07,  2.64s/test case]"
     ]
    },
    {
     "name": "stdout",
     "output_type": "stream",
     "text": [
      "Evaluating property ImprovesHistoricalAnswer\n",
      "Evaluating property TakesFeedbackIntoAccount\n",
      "Evaluating property LengthWithinBounds\n",
      "Evaluating property FactuallyConsistent\n",
      "Evaluating property ImprovesHistoricalAnswer\n",
      "Evaluating property TakesFeedbackIntoAccount\n"
     ]
    },
    {
     "name": "stderr",
     "output_type": "stream",
     "text": [
      "Evaluating test cases:  60%|██████    | 3/5 [00:08<00:05,  2.86s/test case]"
     ]
    },
    {
     "name": "stdout",
     "output_type": "stream",
     "text": [
      "Evaluating property LengthWithinBounds\n",
      "Evaluating property FactuallyConsistent\n",
      "Evaluating property ImprovesHistoricalAnswer\n"
     ]
    },
    {
     "name": "stderr",
     "output_type": "stream",
     "text": [
      "Evaluating test cases:  80%|████████  | 4/5 [00:10<00:02,  2.65s/test case]"
     ]
    },
    {
     "name": "stdout",
     "output_type": "stream",
     "text": [
      "Evaluating property TakesFeedbackIntoAccount\n",
      "Evaluating property LengthWithinBounds\n",
      "Evaluating property FactuallyConsistent\n"
     ]
    },
    {
     "name": "stderr",
     "output_type": "stream",
     "text": [
      "Evaluating test cases: 100%|██████████| 5/5 [00:15<00:00,  3.10s/test case]"
     ]
    },
    {
     "name": "stdout",
     "output_type": "stream",
     "text": [
      "Evaluating property ImprovesHistoricalAnswer\n",
      "Evaluating property TakesFeedbackIntoAccount\n",
      "Evaluating property LengthWithinBounds\n"
     ]
    },
    {
     "name": "stderr",
     "output_type": "stream",
     "text": [
      "\n"
     ]
    },
    {
     "data": {
      "text/plain": [
       "[]"
      ]
     },
     "execution_count": 9,
     "metadata": {},
     "output_type": "execute_result"
    }
   ],
   "source": [
    "r = ev.evaluate(llm_app=llm_app)\n",
    "r"
   ]
  },
  {
   "cell_type": "code",
   "execution_count": null,
   "metadata": {},
   "outputs": [],
   "source": []
  }
 ],
 "metadata": {
  "kernelspec": {
   "display_name": "llm-app-eval-env",
   "language": "python",
   "name": "python3"
  },
  "language_info": {
   "codemirror_mode": {
    "name": "ipython",
    "version": 3
   },
   "file_extension": ".py",
   "mimetype": "text/x-python",
   "name": "python",
   "nbconvert_exporter": "python",
   "pygments_lexer": "ipython3",
   "version": "3.9.18"
  },
  "orig_nbformat": 4
 },
 "nbformat": 4,
 "nbformat_minor": 2
}
