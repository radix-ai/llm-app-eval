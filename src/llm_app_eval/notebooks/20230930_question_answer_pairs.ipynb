{
 "cells": [
  {
   "cell_type": "code",
   "execution_count": 100,
   "metadata": {},
   "outputs": [
    {
     "name": "stdout",
     "output_type": "stream",
     "text": [
      "The autoreload extension is already loaded. To reload it, use:\n",
      "  %reload_ext autoreload\n"
     ]
    }
   ],
   "source": [
    "%load_ext autoreload\n",
    "%autoreload 2"
   ]
  },
  {
   "cell_type": "code",
   "execution_count": 101,
   "metadata": {},
   "outputs": [],
   "source": [
    "import os\n",
    "from typing import List\n",
    "import sys\n",
    "import uuid\n",
    "\n",
    "sys.path.append(\"../../llm_app_eval\")\n",
    "from qa_extraction import QuestionAnswerPairs, extract_question_answer_pairs, save_qa_pairs\n",
    "from llm_app import BaseApp, InputFormat, OutputFormat\n",
    "from evaluator import TestCase, EvalProperty, PropertyResult, Evaluator\n",
    "\n",
    "import openai\n",
    "import instructor\n",
    "\n",
    "openai.api_key_path = \"../../../openai_key\"\n",
    "instructor.patch()"
   ]
  },
  {
   "cell_type": "code",
   "execution_count": 51,
   "metadata": {},
   "outputs": [],
   "source": [
    "# Load documents\n",
    "def load_documents(path):\n",
    "    docs = []\n",
    "    for filename in os.listdir(path):\n",
    "        with open(path + filename) as f:\n",
    "            docs.append(f.read())\n",
    "    return docs\n",
    "\n",
    "def chunk_markdown(md_doc: str) -> List[str]:\n",
    "    \"\"\"Split markdown document into chunks\"\"\"\n",
    "    chunks = []\n",
    "    chunk = \"\"\n",
    "    for line in md_doc.splitlines():\n",
    "        if line.startswith(\"# \"):\n",
    "            chunks.append(chunk)\n",
    "            chunk = \"\"\n",
    "        chunk += line + \"\\n\"\n",
    "    chunks.append(chunk)\n",
    "    return chunks[1:]"
   ]
  },
  {
   "cell_type": "code",
   "execution_count": 52,
   "metadata": {},
   "outputs": [
    {
     "name": "stdout",
     "output_type": "stream",
     "text": [
      "Loaded 1 documents\n",
      "['# 2021 - EHBO\\n\\n# Vier stappen van eerste hulp\\n\\n1. Zorg voor veiligheid, van jezelf, het slachtoffer (SO) en de omstaanders.\\n2. Beoordeel de toestand van het SO.\\n    1. Bewustzijn: verbaal + schudden met schouders\\n        1. Bewust? → laten liggen, vragen wat er gebeurd is\\n        2. Bewusteloos? → Controleer ademhaling: open de luchtweg met kinlift + 10 tellen ademhaling observeren (kijken naar borst, horen en voelen aan mond)\\n            1. Ademhaling → 112 bellen→ stabiele zijligging + ademhaling blijven controleren\\n            2. Geen ademhaling → 112 bellen → reanimeren\\n3. Hulpdiensten verwittigen indien nodig:\\n    1. 112, 101, antigifcentrum (070 245 245), huisartsenwachtpost (1733)\\n    2. 112: vermeld waar, wat en wie\\n4. Verleen verdere eerste hulp\\n\\n# Algemeen\\n\\n- Vermijd het zeggen van \"het komt allemaal goed\". Maak **geen valse beloftes**. Zeg wel: \"de hulpdiensten zijn verwittigd en komen eraan\", \"ik blijf bij u tot de hulpdiensten er zijn\", \"we gaan u zo goed mogelijk helpen\", \"kan ik iemand verwittigen?\"\\n- **Geen eten of drinken** toedienen want het zou kunnen dat er geopereerd moet worden. Behalve bij:\\n    - Hypo\\n    - Hitte- en zonneslag: geef (sport)drank\\n- **Geen pijnstillers of medicatie** geven want een eerste hulpverlener is geen dokter. Wat wel kan, is dat je het SO vraagt of ze daar medicatie voor bij hebben (bvb bij suikerziekte of hartaanval) en ze hen dat laten innemen. Als een collega je eens heeft uitgelegd hoe je bij hem/haar een EPI-pen moet toedienen bij een allergische aanval dan mag je dat doen want dan ben je daarvoor \\'opgeleid\\'.\\n- VLAM:\\n    - Voorgeschiedenis: Heb je dit nog al eens gehad?\\n    - Laatste maaltijd: Wanneer heb je voor het laatst gegeten?\\n    - Allergie: Ben je voor iets allergisch?\\n    - Medicatie: Neem jij medicatie? Waarom neem jij ze?\\n\\n# Reanimatie\\n\\n30 borstcompressies + 2 pogingen tot beademing.\\n\\nBeademen = luchtweg vrijmaken + neus toeknijpen + blazen in mond\\n\\nLaat iemand een AED halen.\\n\\nVerwijder alle bovenkleding (ook BH\\'s).\\n\\n## Baby (0 - 1 jaar)\\n\\n[Ademhalingsfalen zorgt voor hartfalen. Omgekeerde van volwassenen.]\\n\\nStart met vijf beademingen (pufjes), mond volledig over neus en mond van de baby. Daarna 30 borstcompressies + 2 beademingen.\\n\\n112 bellen na de vijf beademingen. Vaak komt de baby er al na die beademingen door.\\n\\nBorstcompressies met twee vingers ipv twee handen.\\n\\nGeen AED.\\n\\nLeg baby op een hard oppervlak, niet in bedje laten liggen.\\n\\nVoorzichtig met kinlift, niet veel nodig\\n\\n## Kind (1 - 12 jaar)\\n\\n[Ademhalingsfalen zorgt voor hartfalen. Omgekeerde van volwassenen.]\\n\\nStart met vijf beademingen. Daarna 30 borstcompressies + 2 beademingen.\\n\\nBorstcompressies met één hand ipv twee.\\n\\nAED kan, maar plak het dan op de borstkas en rug.\\n\\n# Verslikking\\n\\nSO kan nog ademen/hoesten/huilen/spreken, bvb een beetje vocht → goed laten hoesten\\n\\nSO kan niet meer ademen/hoesten/huilen/spreken, bvb grote voedselbrok\\n\\n1. SO laten zitten en voorover laten buigen.\\n2. Tussen schouderbladen kloppen x5 (hard en met tempo)\\n3. Heimlich: Onder oksels met twee armen, vuist vastpakken boven de navel en onder de ribben. 5x samendrukken. Dicht bij persoon staan om alle kracht te kunnen overbrengen.\\n\\nBlijf stap 2 en 3 herhalen.\\n\\nDaarna SO naar dokter laten gaan omdat Heimlich een bloeding kan hebben veroorzaakt.\\n\\n# Beroerte\\n\\n## FAST test\\n\\n- Face: Vraag het SO om te lachen en kijk of er een mondhoek niet mee omhoog gaat.\\n- Arms: Vraag het SO om zijn/haar armen tegelijkertijd op te heffen met de ogen toe en kijk of er één blijft hangen.\\n- Speech: Onverstaanbaar brabbelen, geen woorden meer kunnen volgen.\\n- Time: Hoelang is het al bezig. Belangrijk om weten voor de hulpdiensten.\\n\\nSTAP 3: 112 bellen en zeggen dat de FAST test positief is.\\n\\nSTAP 4: laat het SO rusten, geen eten of drinken geven, blijf rustig\\n\\n# 🩹 Wondverzorging ⚠️\\n\\n## **Brandwonden**\\n\\n- Koelen met (lauw) water om pijn te stillen. Tot pijn verzacht of 15-20 min bij grote brandwonde (brandwonden kunnen onderhuids nog verder branden).\\n- Voorzichtig met kledij en schoenen. Ze uitdoen kan ervoor zorgen dat je verbrande huid er af trekt.\\n- Zware wonden inpakken om naar dokter te gaan:\\n    - met doorweekte windel of compressen (kletsnat anders kan het in de wonde blijven hangen)\\n    - huishoudfolie (!) (is redelijk steriel en plakt niet in de wonde)\\n    - driehoeksverband\\n- Ringen, horloges, kettingen,... uitdoen want het lichaamsdeel kan opzwellen en dan krijg je ze niet meer uit.\\n- Flamigel → JA. Ook voor gewone wonden. Dit voorkomt korstvorming waardoor de wonde sneller geneest.\\n- Flamazine → OPPASSEN. Niet mee in de zon komen want dat verminkt de huid.\\n\\n# 🫀 Hartproblemen/hartaanval\\n\\nSymptomen: pijn i/h midden van de borstkas, koorts/zweten/bibberen, grauwe huidskleur, **ontkenning** (!),...\\n\\nNooit volledig plat neerleggen!\\n\\nNiet naar WC laten gaan! (Persen op WC kan de inspanning te veel zijn...)\\n\\nSO mag zich niet druk maken.\\n\\n# ⚡️Electriciteitsongevallen\\n\\n## Laagspanning\\n\\nStroom door lichaam\\n\\n- STAP 1: SO niet onmiddellijk aanraken. Verbreek verbinding met stroombron op een veilige manier, bvb met een bezem. Hoofdschakelaar afzetten.\\n- STAP 2: SO aanraken met handrug.\\n- STAP 3: Altijd hulp zoeken (bvb huisarts). Beter te veel dan te weinig.\\n- STAP 4: Naargelang de letsels.\\n\\n## Hoogspanning\\n\\n> 1000V stroom over lichaam\\n\\n- STAP 1: Blijf op 10 meter van de stroombron!\\n- STAP 3: Bel 112 en vermeld \\'hoogspanning\\' → extra hulpdiensten\\n\\n# 🦵 Kneuzing/Verstuiking/Verzwikking\\n\\n- Kneuzing = oorzaak van buitenaf\\n- Verstuiking = Verzwikking = uitgerokken ligamenten\\n\\nJe kan het verschil tussen beide niet zien ⇒ dezelfde behandeling\\n\\nProbeer schoen uit te doen om te kijken wat er scheelt. Als het te veel pijn doet, zou het een breuk kunnen zijn.\\n\\nGebruik ijs/coldpack om zwelling tegen te gaan.\\n\\n# 🦴 Botbreuk\\n\\nSymptomen: heel veel pijn, lichaamsdeel werkt niet meer, zwelling.\\n\\nOpen botbreuk:\\n- SO niet laten bewegen\\n- Handschoenen aandoen\\n- Lidmaat niet bewegen\\n- Altijd 112 bellen\\n- bloeding stelpen\\n- ringen verwijderen\\n- steriel kompres, bevochtigd met ontsmettingsmiddel\\n\\nGesloten botbreuk:\\n- SO niet laten bewegen\\n- Lidmaat niet bewegen\\n- bovenste ledematen → evt zelf vervoeren\\n- onderste ledematen → altijd 112\\n- ringen verwijderen\\n- ijs (max. 20 min)\\n- immobiliseer met draagdoek\\n\\n# Ontwrichting\\n\\nZelfde symptomen als een breuk, maar dan op de plaats van een gewricht.\\n\\nKan ook open of gesloten zijn.\\n\\nEnige verschil bij behandeling: geen draagdoek (die techniek bestaat wel, maar is buiten scope).\\n\\nKoeling niet vergeten.\\n\\nAls je het SO moet ondersteunen ⇒ ga aan de goede kant van het SO staan.\\n\\n# 🫁 Ademhalingsmoeilijkheden\\n\\n## Hyperventilatie\\n\\n= foute gasbalans in het bloed\\n\\noorzaak: paniek, pijn, medicatie,...\\n\\nsymptomen: snel ademhalen, duizelig, tintelingen in vingers/lippen, ... (vicieuze cirkel)\\n\\nSTAP 2: Wat is de reden van de paniek?\\n\\nSTAP 3: Enkel 112 als de aanval niet stop, SO wordt blauw-paars, twijfel.\\n\\nSTAP 4: SO kalmeren en vooral zelf rustig blijven. Rustig mee ademen met SO. Bij paniekaanval: SO in handen of zakje laten ademen.\\n\\n## Kortademigheid\\n\\noorzaak: astma, verslikking, fysieke inspanning, klaplong (vb door slag/stoot of wonde, gelukkig heb je twee longen en is dit vaak beperkt tot 1 long), longontsteking.\\n\\nSTAP 4: kalmeren, rustig ademen, evt medicatie laten innemen\\n\\n# 🗣 Hoofd en hals\\n\\n## Vreemd voorwerp in oog\\n\\nSTAP 4:\\n\\n- Niet wrijven! Anders kan je het oog beschadigen met krassen.\\n- SO weinig oogbewegingen laten maken. Bvb door naar een vast punt laten kijken OF door beide ogen afdekken met een compres of schone droge doek.\\n- Voorwerp niet zelf verwijderen.\\n- Bij een vuiltje: oog spoelen onder water, van het midden naar buiten.\\n\\n## Vreemd voorwerp in oor\\n\\nSTAP 3: enkel 112 bij extreme gevallen, anders huisarts\\n\\nSTAP 4: voorwerp niet zelf verwijderen. Risico van het zelf te verwijderen en schade toebrengen is groter dan het langer te laten zitten.\\n\\n## Vreemd voorwerp in neus\\n\\nSTAP 4:\\n\\n- voorwerp niet zelf verwijderen. Risico van het zelf te verwijderen en schade toebrengen is groter dan het langer te laten zitten.\\n- bij klein voorwerp (bvb TicTac), SO laten snuiten, of in geval van klein kind → blaaskus = luchtstoot in mond en goede neusgat dicht houden\\n\\n## Epilepsie\\n\\n= overprikkeling van de hersenen\\n\\nSymptomen: verlies van bewustzijn, schokken, evt urineverlies,...\\n\\nSTAP 1: verwijder voorwerpen, kussen onder hoofd, niets in mond steken (ook geen riem zoals vroeger werd gedaan). SO niet vasthouden of proberen tegen te houden!\\n\\nSTAP 2: blijf toestand (bewustzijn en ademhaling) in het oog houden. Ook als het SO stopt met schokken.\\n\\nSTAP 3: 112 indien:\\n\\n- Je niet weet of het SO een epilepsie geschiedenis heeft.\\n- Aanval langer duurt dan 5 minuten ⇒ mug wordt meegestuurd.\\n- SO hervalt telkens in een aanval.\\n- SO is zwanger.\\n- SO heeft diabetes.\\n\\nSTAP 4:\\n\\n- rust brengen\\n- registreren wat er gebeurt en hoelang en deze informatie meegeven aan de ziekenwagen of dokter\\n\\n## Koortsstuipen\\n\\n= overprikkeling v/d hersenen bij koorts (>40 graden), vaak bij kinderen\\n\\nSTAP 1: idem epilepsie\\n\\nSTAP 3: altijd 112 (omwille van hoge koorts)\\n\\nSTAP 4:\\n\\n- temperatuur meten\\n- koelen (kleding uitdoen, deppen met lauw water)\\n- ouders mogen een koortswerend middel geven (maar geen eten of drinken geven)\\n\\n# Hoofdletsels\\n\\nSoorten:\\n\\n- hoofdwonde\\n- schedelbreuk\\n    - bloed of helder vocht uit neus, mond en/of oren\\n    - blauwe verkleuring rond de ogen of achter de oren\\n    - suf, verward\\n    - uitval van zicht, reuk, gehoor en/of evenwicht\\n- hersenschudding\\n    - hoofdpijn\\n    - vaak geeuwen\\n    - bloed uit neus/oor\\n    - epileptisch beeld\\n    - hoofdwonde,\\n    - misselijk\\n\\nSTAP 3: vaak 112 nodig, tenzij bij zeer lichte hersenschudding (bvb voetbal tegen hoofd) of van voorbijgaande aard\\n\\nSTAP 4:\\n\\n- indien bewusteloos: op rug laten liggen + kinlift!\\n- evt hoofd immobiliseren met handen (steun je armen op je dijbenen) of hoofd tussen knieën houden.\\n\\n# Wervelletsels\\n\\nbijv. bij val van >2 meter, verkeersongeluk, duikongevallen in ondiep water\\n\\nsymptomen: gevoelsstoringen en verlamming, verminderd of tintelend gevoel, pijn in nek, hals, rug of achteraan in bekken,..\\n\\nSTAP 1:\\n\\n- indien verkeersongeval goed opletten!\\n- verplaats SO niet, ook niet als het een motorrijder is en nog op de weg ligt\\n\\nSTAP 2: kinlift indien je niet onmiddellijk een ademhaling opmerkt. Indien SO op zijn/haar zij ligt en ademt → laten liggen + ademhaling blijven controleren\\n\\nSTAP 3: sowieso 112\\n\\nSTAP 4:\\n\\n- kalmeer het SO\\n- overtuig SO om niet te bewegen\\n- hoofd immobiliseren\\n- reanimeer indien nodig!!!\\n\\n# 🧁 Diabetes\\n\\nSoorten:\\n\\n- Type 1\\n    - tekort aan insuline → moeten insuline spuiten\\n    - vanaf jonge leeftijd\\n- Type 2\\n    - insuline werkt minder goed\\n    - ouderdom, overgewicht → dieet, bewegen,...\\n- Zwangerschapsdiabetes\\n    - tekort aan insuline\\n\\n## Hyperglycemie\\n\\n= te veel suiker in het bloed\\n\\nsymptomen: dorst, droge mond, gebrek aan eetlust, hyperventilatie\\n\\nGevaarlijk op lange termijn: wondes die minder goed helen op extreme delen, oogproblemen (in de fijne bloedvatten)\\n\\n## Hypoglycemie\\n\\n= te weinig suiker in het bloed\\n\\nsymptomen: onrustig, afwijkend gedrag, \\'dronken\\', flauwte, bewusteloos,...\\n\\nMoeilijk te herkennen!\\n\\nAccuut en gevaarlijk!\\n\\nAlgemeen EHBO advies: **diabetes patient met disbalans (hypo of hyper) ⇒ suiker geven**. (Ja, dat maakt een hyperglycemie erger, maar dat is geen probleem op de korte termijn)\\n\\nSTAP 3: 112 indien verminderd bewustzijn\\n\\nSTAP 4:\\n\\n- achterhalen of het effectief diabetes is\\n- snelwerkende suikers geven (bvb druivensuiker, echte cola)\\n- koolhydraten voor langere werking (bvb boterham)\\n- SO bloedsuikerspiegel laten meten\\n- hyper: medicatie laten nemen (i.e. insuline spuiten, dat verlaagt de suiker in het bloed)\\n- indien bewustzijnsverlies: geen eten geven want gevaar op verslikking\\n\\n# 🤢 Vergiftiging\\n\\nOorzaken:\\n\\n- inslikken (vb alcohol)\\n- inademen (vb CO, ammoniak, H2S (kan zich opbouwen in regenput, beerput,...), CH4, stikstof,...)\\n- inspuiten (vb overdosis drugs)\\n- contact met chemische producten\\n\\nSTAP 1:\\n\\n- Zien dat je jezelf niet vergiftigt.\\n- Ingeval van CO: elektrische toestellen niet uit/aan schakelen.\\n\\nSTAP 3:\\n\\n- ernstig: 112 en daarna antigifcentrum\\n- niet zo ernstig: antigifcentrum\\n']\n"
     ]
    }
   ],
   "source": [
    "# Load documents\n",
    "docs = load_documents(\"../data/documents/\")\n",
    "print(f\"Loaded {len(docs)} documents\")\n",
    "print(docs)\n",
    "\n",
    "# Chunk documents\n",
    "chunks = []\n",
    "for doc in docs:\n",
    "    chunks.extend(chunk_markdown(doc))"
   ]
  },
  {
   "cell_type": "code",
   "execution_count": 38,
   "metadata": {},
   "outputs": [],
   "source": [
    "# Extract question answer pairs\n",
    "question_answer_pairs = []\n",
    "for chunk in chunks:\n",
    "    qas = extract_question_answer_pairs(chunk)\n",
    "    question_answer_pairs.extend(qas)"
   ]
  },
  {
   "cell_type": "code",
   "execution_count": 46,
   "metadata": {},
   "outputs": [],
   "source": [
    "save_qa_pairs(question_answer_pairs, \"../data/question_answer_pairs.csv\")"
   ]
  }
 ],
 "metadata": {
  "kernelspec": {
   "display_name": "llm-app-eval-env",
   "language": "python",
   "name": "python3"
  },
  "language_info": {
   "codemirror_mode": {
    "name": "ipython",
    "version": 3
   },
   "file_extension": ".py",
   "mimetype": "text/x-python",
   "name": "python",
   "nbconvert_exporter": "python",
   "pygments_lexer": "ipython3",
   "version": "3.9.18"
  },
  "orig_nbformat": 4
 },
 "nbformat": 4,
 "nbformat_minor": 2
}
